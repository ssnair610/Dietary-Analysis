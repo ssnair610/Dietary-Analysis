{
 "cells": [
  {
   "cell_type": "markdown",
   "metadata": {},
   "source": [
    "**1. Importing Necessary packages**\n",
    "---"
   ]
  },
  {
   "cell_type": "code",
   "execution_count": null,
   "metadata": {},
   "outputs": [],
   "source": [
    "import numpy as np\n",
    "import pandas as pd\n",
    "import plotly.express as px\n",
    "import plotly.graph_objects as go\n",
    "import seaborn as sns\n",
    "import matplotlib.pyplot as plt\n",
    "from sklearn.preprocessing import StandardScaler \n",
    "from sklearn.decomposition import PCA\n",
    "from scipy.spatial.distance import pdist, squareform\n",
    "from sklearn.model_selection import train_test_split\n",
    "from sklearn.neighbors import KNeighborsClassifier \n",
    "from sklearn.metrics import accuracy_score"
   ]
  },
  {
   "cell_type": "markdown",
   "metadata": {},
   "source": [
    "**2. Reading CSVs**\n",
    "---"
   ]
  },
  {
   "cell_type": "code",
   "execution_count": null,
   "metadata": {},
   "outputs": [],
   "source": [
    "adult = pd.read_csv(\"avg_adult.csv\")\n",
    "fball_player = pd.read_csv(\"football_player.csv\")\n",
    "rock = pd.read_csv(\"rock.csv\")"
   ]
  },
  {
   "cell_type": "code",
   "execution_count": null,
   "metadata": {},
   "outputs": [],
   "source": [
    "data_food = pd.read_csv(\"food_data.csv\")\n",
    "nutrient_food = pd.read_csv(\"food_nutrient.csv\")\n",
    "portion_food = pd.read_csv(\"food_portion.csv\")\n",
    "sample_result = pd.read_csv(\"sub_sample_result.csv\")\n",
    "food =  pd.read_csv(\"food_nutrient_AHS.csv\", header=0,low_memory=False)\n",
    "FoodData = pd.read_csv('fooddata (1).csv')\n",
    "DRI = pd.read_csv('DRI_data (1).csv')"
   ]
  },
  {
   "cell_type": "markdown",
   "metadata": {},
   "source": [
    "**3. Insight into our data**\n",
    "---"
   ]
  },
  {
   "cell_type": "code",
   "execution_count": null,
   "metadata": {},
   "outputs": [],
   "source": [
    "data_food.head()"
   ]
  },
  {
   "cell_type": "code",
   "execution_count": null,
   "metadata": {},
   "outputs": [],
   "source": [
    "nutrient_food.head()"
   ]
  },
  {
   "cell_type": "code",
   "execution_count": null,
   "metadata": {},
   "outputs": [],
   "source": [
    "portion_food.head()"
   ]
  },
  {
   "cell_type": "code",
   "execution_count": null,
   "metadata": {},
   "outputs": [],
   "source": [
    "adult"
   ]
  },
  {
   "cell_type": "code",
   "execution_count": null,
   "metadata": {},
   "outputs": [],
   "source": [
    "fball_player"
   ]
  },
  {
   "cell_type": "code",
   "execution_count": null,
   "metadata": {},
   "outputs": [],
   "source": [
    "rock"
   ]
  },
  {
   "cell_type": "markdown",
   "metadata": {},
   "source": [
    "**4. Additional Data**\n",
    "--"
   ]
  },
  {
   "cell_type": "code",
   "execution_count": null,
   "metadata": {},
   "outputs": [],
   "source": [
    "adult = [50,70,24,310,90,2.3,30]\n",
    "fball = [162,139,24,463,17,2.3,35]\n",
    "Rock = [507,112,34,571,62.64,2.57,68.9]"
   ]
  },
  {
   "cell_type": "code",
   "execution_count": null,
   "metadata": {},
   "outputs": [],
   "source": [
    "d2 = portion_food.loc[portion_food[\"gram_weight\"]>300, ['id','gram_weight']]"
   ]
  },
  {
   "cell_type": "markdown",
   "metadata": {},
   "source": [
    "**5. Data visualisation**\n",
    "---"
   ]
  },
  {
   "cell_type": "markdown",
   "metadata": {},
   "source": [
    "# Plotting the nutritional requirement for : Average adult VS Average football player"
   ]
  },
  {
   "cell_type": "code",
   "execution_count": null,
   "metadata": {},
   "outputs": [],
   "source": [
    "Nutrients = [\"Protein\",\"Fat\",\"Fatty_acids\",\"carbs\",\"Sugars\",\"Salt\",\"Diet_fibre\"]\n",
    "indices = np.arange(len(Nutrients))\n",
    "\n",
    "width = 0.20\n",
    "\n",
    "plt.bar(indices, adult, width = width)\n",
    "plt.bar(indices + width, fball, width = width)\n",
    "\n",
    "plt.xticks(ticks = indices, labels = Nutrients)\n",
    "\n",
    "\n",
    "plt.xlabel(\"Nutrients\")\n",
    "plt.title(\"Average adult vs Football player\")\n",
    "plt.legend([\"Average Adult\",\"Footballer Player\"])\n",
    "\n",
    "plt.show()"
   ]
  },
  {
   "cell_type": "markdown",
   "metadata": {},
   "source": [
    "# Plotting the nutritional requirement for : Average football player VS The Rock"
   ]
  },
  {
   "cell_type": "code",
   "execution_count": null,
   "metadata": {},
   "outputs": [],
   "source": [
    "Nutrients = [\"Protein\",\"Fat\",\"Fatty_acids\",\"carbs\",\"Sugars\",\"Salt\",\"Diet_fibre\"]\n",
    "indices = np.arange(len(Nutrients))\n",
    "\n",
    "width = 0.20\n",
    "\n",
    "plt.bar(indices, fball, width = width)\n",
    "plt.bar(indices + width, Rock, width = width)\n",
    "\n",
    "plt.xticks(ticks = indices, labels = Nutrients)\n",
    "\n",
    "\n",
    "plt.xlabel(\"Nutrients\")\n",
    "plt.title(\"Football player vs The Rock\")\n",
    "plt.legend([\"Footballer Player\",\"The Rock\"])\n",
    "\n",
    "plt.show()"
   ]
  },
  {
   "cell_type": "markdown",
   "metadata": {},
   "source": [
    "# Plotting the nutritional requirement for : Average adult VS The Rock"
   ]
  },
  {
   "cell_type": "code",
   "execution_count": null,
   "metadata": {},
   "outputs": [],
   "source": [
    "Nutrients = [\"Protein\",\"Fat\",\"Fatty_acids\",\"carbs\",\"Sugars\",\"Salt\",\"Diet_fibre\"]\n",
    "indices = np.arange(len(Nutrients))\n",
    "\n",
    "width = 0.20\n",
    "\n",
    "plt.bar(indices, Rock, width = width)\n",
    "plt.bar(indices + width, adult, width = width)\n",
    "\n",
    "plt.xticks(ticks = indices, labels = Nutrients)\n",
    "\n",
    "\n",
    "plt.xlabel(\"Nutrients\")\n",
    "plt.title(\"The Rock vs Average Adult\")\n",
    "plt.legend([\"The Rock\",\"Average Adult\"])\n",
    "\n",
    "plt.show()"
   ]
  },
  {
   "cell_type": "markdown",
   "metadata": {},
   "source": [
    "**Gram Weight distribution based on id**\n",
    "---"
   ]
  },
  {
   "cell_type": "code",
   "execution_count": null,
   "metadata": {},
   "outputs": [],
   "source": [
    "fig = go.Figure()\n",
    "fig.add_trace(go.Scatter(x = d2['id'], y = d2['gram_weight'], mode='markers',marker_color=d2['gram_weight']))\n",
    "fig.show()"
   ]
  },
  {
   "cell_type": "markdown",
   "metadata": {},
   "source": [
    "**Count of food-items in different categories**\n",
    "---"
   ]
  },
  {
   "cell_type": "code",
   "execution_count": null,
   "metadata": {},
   "outputs": [],
   "source": [
    "px.histogram(data_food, x = 'Category', barmode = 'group')"
   ]
  },
  {
   "cell_type": "markdown",
   "metadata": {},
   "source": [
    "**Carbohydrate composition of food in different categories**\n",
    "---"
   ]
  },
  {
   "cell_type": "code",
   "execution_count": null,
   "metadata": {},
   "outputs": [],
   "source": [
    "cols = ['Description','Data.Carbohydrate']\n",
    "\n",
    "d5 = data_food.loc[ : , cols ]\n",
    "\n",
    "fig = go.Figure()\n",
    "fig.add_trace(go.Scatter(x = d5['Description'], y = d5['Data.Carbohydrate'], mode='markers', name = 'Carbohydrate', marker = dict(color = d5['Data.Carbohydrate'], colorscale = \"Viridis\")))\n",
    "fig.update_layout(width = 1200, height = 1200, autosize = False)\n",
    "fig.show()"
   ]
  },
  {
   "cell_type": "markdown",
   "metadata": {},
   "source": [
    "**Cholesterol composition of food in different categories**\n",
    "---"
   ]
  },
  {
   "cell_type": "code",
   "execution_count": null,
   "metadata": {},
   "outputs": [],
   "source": [
    "cols = ['Description','Data.Cholesterol']\n",
    "\n",
    "d5 = data_food.loc[ : , cols ]\n",
    "\n",
    "fig = go.Figure()\n",
    "fig.add_trace(go.Scatter(x = d5['Description'], y = d5['Data.Cholesterol'], mode='markers', name = 'Carbohydrate', marker = dict(color = d5['Data.Cholesterol'], colorscale = \"Viridis\")))\n",
    "fig.update_layout(width = 1200, height = 1200, autosize = False)\n",
    "fig.show()"
   ]
  },
  {
   "cell_type": "markdown",
   "metadata": {},
   "source": [
    "**Kilo-calorie composition of food in different categories**\n",
    "---"
   ]
  },
  {
   "cell_type": "code",
   "execution_count": null,
   "metadata": {},
   "outputs": [],
   "source": [
    "cols = ['Description','Data.Kilocalories']\n",
    "\n",
    "d5 = data_food.loc[ : , cols ]\n",
    "\n",
    "fig = go.Figure()\n",
    "fig.add_trace(go.Scatter(x = d5['Description'], y = d5['Data.Kilocalories'], mode='markers', name = 'Carbohydrate', marker = dict(color = d5['Data.Kilocalories'], colorscale = \"Viridis\")))\n",
    "fig.update_layout(width = 1200, height = 1200, autosize = False)\n",
    "fig.show()"
   ]
  },
  {
   "cell_type": "markdown",
   "metadata": {},
   "source": [
    "**Plot of nutrient compostion for Milk**\n",
    "---"
   ]
  },
  {
   "cell_type": "code",
   "execution_count": null,
   "metadata": {},
   "outputs": [],
   "source": [
    "col_selected = ['Description','Data.Carbohydrate','Data.MajorMinerals.Calcium','Data.Vitamins.Vitamin_B12', 'Data.MajorMinerals.Zinc', 'Data.Vitamins.Vitamin_K', 'Data.Vitamins.Vitamin_E', 'Data.Vitamins.Vitamin_C', 'Data.MajorMinerals.Sodium', 'Data.MajorMinerals.Potassium', 'Data.MajorMinerals.Phosphorus']\n",
    "col_final = ['Data.Carbohydrate','Data.MajorMinerals.Calcium','Data.Vitamins.Vitamin_B12', 'Data.MajorMinerals.Zinc', 'Data.Vitamins.Vitamin_K', 'Data.Vitamins.Vitamin_E', 'Data.Vitamins.Vitamin_C', 'Data.MajorMinerals.Sodium', 'Data.MajorMinerals.Potassium', 'Data.MajorMinerals.Phosphorus']\n",
    "\n",
    "for i in range(0, 10):\n",
    "    d4 = data_food.loc[data_food[\"Category\"]==\"MILK\", col_selected]\n",
    "\n",
    "d5 = d4.iloc[:, 1:]\n",
    "\n",
    "fig = go.Figure()\n",
    "\n",
    "for i in col_final:\n",
    "    fig.add_trace(go.Scatter(x = d4['Description'], y = d5[i], mode='markers+lines', name = i))\n",
    "\n",
    "fig.update_layout(width = 1000, height = 1200, autosize = False)\n",
    "fig.show()\n"
   ]
  },
  {
   "cell_type": "markdown",
   "metadata": {},
   "source": [
    "**Plot of nutrient compostion for Egg**\n",
    "---"
   ]
  },
  {
   "cell_type": "code",
   "execution_count": null,
   "metadata": {},
   "outputs": [],
   "source": [
    "col_selected = ['Description','Data.Carbohydrate','Data.MajorMinerals.Calcium','Data.Vitamins.Vitamin_B12', 'Data.MajorMinerals.Zinc', 'Data.Vitamins.Vitamin_K', 'Data.Vitamins.Vitamin_E', 'Data.Vitamins.Vitamin_C', 'Data.MajorMinerals.Sodium', 'Data.MajorMinerals.Potassium', 'Data.MajorMinerals.Phosphorus']\n",
    "col_final = ['Data.Carbohydrate','Data.MajorMinerals.Calcium','Data.Vitamins.Vitamin_B12', 'Data.MajorMinerals.Zinc', 'Data.Vitamins.Vitamin_K', 'Data.Vitamins.Vitamin_E', 'Data.Vitamins.Vitamin_C', 'Data.MajorMinerals.Sodium', 'Data.MajorMinerals.Potassium', 'Data.MajorMinerals.Phosphorus']\n",
    "\n",
    "for i in range(0, 10):\n",
    "    d4 = data_food.loc[data_food[\"Category\"]==\"EGG\", col_selected]\n",
    "\n",
    "d5 = d4.iloc[:, 1:]\n",
    "\n",
    "fig = go.Figure()\n",
    "\n",
    "for i in col_final:\n",
    "    fig.add_trace(go.Scatter(x = d4['Description'], y = d5[i], mode='markers+lines', name = i))\n",
    "\n",
    "fig.update_layout(width = 1000, height = 1200, autosize = False)\n",
    "fig.show()\n"
   ]
  },
  {
   "cell_type": "markdown",
   "metadata": {},
   "source": [
    "**Plot of nutrient compostion for Babyfood**\n",
    "---"
   ]
  },
  {
   "cell_type": "code",
   "execution_count": null,
   "metadata": {},
   "outputs": [],
   "source": [
    "col_selected = ['Description','Data.Carbohydrate','Data.MajorMinerals.Calcium','Data.Vitamins.Vitamin_B12', 'Data.MajorMinerals.Zinc', 'Data.Vitamins.Vitamin_K', 'Data.Vitamins.Vitamin_E', 'Data.Vitamins.Vitamin_C', 'Data.MajorMinerals.Sodium', 'Data.MajorMinerals.Potassium', 'Data.MajorMinerals.Phosphorus']\n",
    "col_final = ['Data.Carbohydrate','Data.MajorMinerals.Calcium','Data.Vitamins.Vitamin_B12', 'Data.MajorMinerals.Zinc', 'Data.Vitamins.Vitamin_K', 'Data.Vitamins.Vitamin_E', 'Data.Vitamins.Vitamin_C', 'Data.MajorMinerals.Sodium', 'Data.MajorMinerals.Potassium', 'Data.MajorMinerals.Phosphorus']\n",
    "\n",
    "for i in range(0, 20):\n",
    "    d4 = data_food.loc[data_food[\"Category\"]==\"BABYFOOD\", col_selected]\n",
    "\n",
    "d5 = d4.iloc[:, 1:]\n",
    "\n",
    "fig = go.Figure()\n",
    "\n",
    "for i in col_final:\n",
    "    fig.add_trace(go.Scatter(x = d4['Description'], y = d5[i], mode='markers+lines', name = i))\n",
    "\n",
    "fig.update_layout(width = 1200, height = 1200, autosize = False)\n",
    "fig.show()\n"
   ]
  },
  {
   "cell_type": "markdown",
   "metadata": {},
   "source": [
    "**Plot of nutrient compostion for Chicken**\n",
    "---"
   ]
  },
  {
   "cell_type": "code",
   "execution_count": null,
   "metadata": {},
   "outputs": [],
   "source": [
    "col_selected = ['Description','Data.Carbohydrate','Data.MajorMinerals.Calcium','Data.Vitamins.Vitamin_B12', 'Data.MajorMinerals.Zinc', 'Data.Vitamins.Vitamin_K', 'Data.Vitamins.Vitamin_E', 'Data.Vitamins.Vitamin_C', 'Data.MajorMinerals.Sodium', 'Data.MajorMinerals.Potassium', 'Data.MajorMinerals.Phosphorus']\n",
    "col_final = ['Data.Carbohydrate','Data.MajorMinerals.Calcium','Data.Vitamins.Vitamin_B12', 'Data.MajorMinerals.Zinc', 'Data.Vitamins.Vitamin_K', 'Data.Vitamins.Vitamin_E', 'Data.Vitamins.Vitamin_C', 'Data.MajorMinerals.Sodium', 'Data.MajorMinerals.Potassium', 'Data.MajorMinerals.Phosphorus']\n",
    "\n",
    "for i in range(0, 20):\n",
    "    d4 = data_food.loc[data_food[\"Category\"]==\"CHICKEN\", col_selected]\n",
    "\n",
    "d5 = d4.iloc[:, 1:]\n",
    "\n",
    "fig = go.Figure()\n",
    "\n",
    "for i in col_final:\n",
    "    fig.add_trace(go.Scatter(x = d4['Description'], y = d5[i], mode='markers+lines', name = i))\n",
    "\n",
    "fig.update_layout(width = 1200, height = 1200, autosize = False)\n",
    "fig.show()\n"
   ]
  },
  {
   "cell_type": "markdown",
   "metadata": {},
   "source": [
    "**Plot of nutrient against it's gram/DV**\n",
    "---"
   ]
  },
  {
   "cell_type": "code",
   "execution_count": null,
   "metadata": {},
   "outputs": [],
   "source": [
    "sample_result = sample_result[['nutrient_name', 'adjusted_amount']]\n",
    "\n",
    "sample_result = sample_result.replace(0, np.nan).dropna(axis = 0, how = 'any')\n",
    "d1 = sample_result.drop_duplicates('nutrient_name', keep='last')\n",
    "\n",
    "fig = go.Figure()\n",
    "fig.add_trace(go.Scatter(x = d1['nutrient_name'], y = d1['adjusted_amount'], mode = 'markers', marker = dict(color = d1['adjusted_amount'], colorscale = \"Agsunset\")))\n",
    "fig.update_layout(width = 1200, height = 1200, autosize = False)\n",
    "fig.show()"
   ]
  },
  {
   "cell_type": "markdown",
   "metadata": {},
   "source": [
    "**ML algorithm on our data**\n",
    "---"
   ]
  },
  {
   "cell_type": "code",
   "execution_count": null,
   "metadata": {},
   "outputs": [],
   "source": [
    "def VAT(R):\n",
    "    R = np.array(R)\n",
    "    N, M = R.shape\n",
    "    if N != M:\n",
    "        R = squareform(pdist(R))\n",
    "    J = list(range(0, N))\n",
    "    \n",
    "    y = np.max(R, axis = 0)\n",
    "    i = np.argmax(R, axis = 0)\n",
    "    j = np.argmax(y)\n",
    "    y = np.max(y)\n",
    "    \n",
    "    I = i[j]\n",
    "    del J[I]\n",
    "    \n",
    "    y = np.min( R[I, J], axis = 0)\n",
    "    j = np.argmin(R[I, J], axis = 0)\n",
    "    I = [I, J[j]]\n",
    "    J = [e for e in J if e != J[j]]\n",
    "    C = [1, 1]\n",
    "\n",
    "    for r in range(2, N - 1):\n",
    "        y = np.min(R[I,:][:,J], axis = 0)\n",
    "        i = np.argmin(R[I,:][:,J], axis = 0)\n",
    "        j = np.argmin(y)\n",
    "        y = np.min(y)\n",
    "        I.extend([J[j]])\n",
    "        J = [e for e in J if e != J[j]]\n",
    "        C.extend([i[j]])\n",
    "\n",
    "    y = np.min(R[I, :][:, J], axis = 0)\n",
    "    i = np.argmin(R[I, :][:, J], axis = 0)\n",
    "\n",
    "    I.extend(J)\n",
    "    C.extend(i)\n",
    "\n",
    "    RI = list(range(N))\n",
    "    for idx, val in enumerate(I):\n",
    "        RI[val] = idx\n",
    "\n",
    "    RV = R[I, :][:, I]\n",
    "    return RV.tolist(), C, I\n",
    "\n",
    "\n",
    "def entropy(probs):\n",
    "    \n",
    "    return -probs.dot(np.log2(probs))\n",
    "\n",
    "def mutual_info(df):\n",
    "    \n",
    "    Hx = entropy(df.iloc[:, 0].value_counts(normalize = True, sort = False))\n",
    "    Hy = entropy(df.iloc[:, 1].value_counts(normalize = True, sort = False))\n",
    "    \n",
    "    counts = df.groupby(list(df.columns.values)).size()\n",
    "    probs = counts / counts.values.sum()\n",
    "    H_xy = entropy(probs)\n",
    "\n",
    "    I_xy = Hx + Hy - H_xy\n",
    "    MI = I_xy\n",
    "    NMI = I_xy / min(Hx, Hy) \n",
    "    \n",
    "    return {'H_'+list(df)[0]:Hx,'H_'+list(df)[1]:Hy,'MI':MI,'NMI':NMI} "
   ]
  },
  {
   "cell_type": "code",
   "execution_count": null,
   "metadata": {},
   "outputs": [],
   "source": [
    "continuous_feature = pd.DataFrame(food.iloc[:, 4:57])\n",
    "scaler = StandardScaler()\n",
    "foodscaled = scaler.fit_transform(continuous_feature)"
   ]
  },
  {
   "cell_type": "code",
   "execution_count": null,
   "metadata": {},
   "outputs": [],
   "source": [
    "food['EnergyLevel'] = np.where(food['Energy, with dietary fibre (kJ)'] > 1000, 1, 0)"
   ]
  },
  {
   "cell_type": "markdown",
   "metadata": {},
   "source": [
    "**PCA based on energy**\n",
    "--"
   ]
  },
  {
   "cell_type": "code",
   "execution_count": null,
   "metadata": {},
   "outputs": [],
   "source": [
    "pca = PCA(n_components = 2)\n",
    "foodreduced = pca.fit_transform(foodscaled)\n",
    "\n",
    "reduced = pd.DataFrame({\"1st principle component\":[i[0] for i in foodreduced],\"2nd principle component\":[i[1] for i in foodreduced]\n",
    "                       ,'EnergyLevel':food['EnergyLevel']})\n",
    "food_high=reduced.loc[reduced['EnergyLevel'] == 1]\n",
    "food_low=reduced.loc[reduced['EnergyLevel'] == 0]\n",
    "\n",
    "fig, ax = plt.subplots()\n",
    "\n",
    "ax.scatter(food_high[\"1st principle component\"], food_high[\"2nd principle component\"], color = 'red',label = 'High energy', s = 1.5)\n",
    "ax.scatter(food_low[\"1st principle component\"], food_low[\"2nd principle component\"], color = 'blue',label = 'Low energy',s = 1.5)\n",
    "leg = ax.legend()\n",
    "plt.xlabel('1st Principal Component')\n",
    "plt.ylabel('2nd Principal Component')\n",
    "plt.title('Scatter plot about 1st PCs vs 2nd PCs based on Energy Level')\n",
    "plt.show()"
   ]
  },
  {
   "cell_type": "markdown",
   "metadata": {},
   "source": [
    "**Heatmap on dissimilarities of Categories 13, 20 and 24**\n",
    "---"
   ]
  },
  {
   "cell_type": "code",
   "execution_count": null,
   "metadata": {},
   "outputs": [],
   "source": [
    "food['Survey ID']=food['Survey ID'].astype(str)\n",
    "food['Food Category'] = food['Survey ID'].str.slice(0,2)\n",
    "\n",
    "food_row = food.shape[0]\n",
    "foodscaledsample=[]\n",
    "for i in range(food_row):\n",
    "    if food['Food Category'][i] == '13' or food['Food Category'][i] == '20' or food['Food Category'][i] == '24':\n",
    "        foodscaledsample.append(foodscaled[i])\n",
    "\n",
    "RV, C, I = VAT(foodscaledsample)\n",
    "\n",
    "x = sns.heatmap(RV, cmap='gist_stern', xticklabels=False, yticklabels=False)\n",
    "x.set(xlabel='Objects', ylabel='Objects')\n",
    "plt.title('Heatmap of foodscaledsample')\n",
    "plt.show()"
   ]
  },
  {
   "cell_type": "markdown",
   "metadata": {},
   "source": [
    "**K-NN on Scaled values wrt Category**\n",
    "---"
   ]
  },
  {
   "cell_type": "code",
   "execution_count": null,
   "metadata": {},
   "outputs": [],
   "source": [
    "X_train, X_test, y_train, y_test = train_test_split( foodscaled, food['Food Category'], train_size=0.8, test_size=0.2)"
   ]
  },
  {
   "cell_type": "code",
   "execution_count": null,
   "metadata": {},
   "outputs": [],
   "source": [
    "print('k=1')\n",
    "knn = KNeighborsClassifier(n_neighbors=1)\n",
    "knn.fit(X_train, y_train)\n",
    "\n",
    "y_pred=knn.predict(X_train)\n",
    "print('Train accuracy: ',accuracy_score(y_train, y_pred),1)\n",
    "\n",
    "y_pred=knn.predict(X_test)\n",
    "print('Test accuracy: ',accuracy_score(y_test, y_pred),1)\n",
    "\n",
    "print('k=3')\n",
    "knn = KNeighborsClassifier(n_neighbors=3)\n",
    "knn.fit(X_train, y_train)\n",
    "\n",
    "y_pred=knn.predict(X_train)\n",
    "print('Train accuracy: ',accuracy_score(y_train, y_pred),1)\n",
    "\n",
    "y_pred=knn.predict(X_test)\n",
    "print('Test accuracy: ',accuracy_score(y_test, y_pred),1)"
   ]
  },
  {
   "cell_type": "code",
   "execution_count": null,
   "metadata": {},
   "outputs": [],
   "source": [
    "neededColumns = [ 'Data.Major Minerals.' + column for column in DRI.drop('Life-Stage Group', axis=1).columns ]\n",
    "\n",
    "for column in FoodData.drop(['Category', 'Description'], axis=1).columns:\n",
    "    if column not in neededColumns:\n",
    "        FoodData = FoodData.drop(column, axis=1)"
   ]
  },
  {
   "cell_type": "code",
   "execution_count": null,
   "metadata": {},
   "outputs": [],
   "source": [
    "FoodData = FoodData.groupby('Category', as_index=False).mean()"
   ]
  },
  {
   "cell_type": "code",
   "execution_count": null,
   "metadata": {},
   "outputs": [],
   "source": [
    "def DemographicKey(age:float, sex:str):\n",
    "    if age <= 0.5: return '0-6 m'\n",
    "    if age <= 1.0: return '7-12 m'\n",
    "    if age <= 3.0: return '1-3 y'\n",
    "    if age <= 8.0: return '4-8 y'\n",
    "\n",
    "    key = ''\n",
    "\n",
    "    if age <= 13.0: key = '9-13 y '\n",
    "    elif age <= 18.0: key = '14-18 y '\n",
    "    elif age <= 30.0: key = '19-30 y '\n",
    "    elif age <= 50.0: key = '31-50 y '\n",
    "    elif age <= 70.0: key = '51-70 y '\n",
    "    else: key = '71+ y '\n",
    "\n",
    "    sex = sex.lower()\n",
    "    if sex in ('male', 'm'): return key + 'M'\n",
    "    if sex in ('female', 'f'): return key + 'F'\n",
    "    if sex in ('preg', 'pregnant', 'p'): return key + 'P'\n",
    "    if sex in ('lact', 'lactation', 'l'): return key + 'L'"
   ]
  },
  {
   "cell_type": "code",
   "execution_count": null,
   "metadata": {},
   "outputs": [],
   "source": [
    "neededColumns = FoodData.drop('Category', axis=1).columns\n",
    "for column in DRI.columns:\n",
    "    if 'Data.Major Minerals.' + column not in neededColumns:\n",
    "        DRI.drop(column, axis=1)\n",
    "\n",
    "DRI = DRI.rename(lambda col: 'Data.Major Minerals.' + col if col != 'Life-Stage Group' else col, axis=1)"
   ]
  },
  {
   "cell_type": "code",
   "execution_count": null,
   "metadata": {},
   "outputs": [],
   "source": [
    "def ExpensedData(specimenPool:pd.DataFrame, standard:pd.DataFrame, age:float, subclass:str, normalize=False):\n",
    "    selected = standard.loc[standard['Life-Stage Group'] == DemographicKey(age, subclass)]\n",
    "    commonColumns = np.intersect1d(specimenPool.columns, selected.columns, assume_unique=True)\n",
    "    \n",
    "    expensed = pd.DataFrame([], columns=[ 'Category', *[ column.removeprefix('Data.Major Minerals.') for column in commonColumns ] ])\n",
    "\n",
    "    if normalize:\n",
    "        deviations = np.std(specimenPool, axis=0)\n",
    "\n",
    "        for specimen in specimenPool.iloc:\n",
    "            sub = { 'Category': specimen['Category'] }\n",
    "\n",
    "            for column in commonColumns: sub[column.removeprefix('Data.Major Minerals.')] = float((specimen[column] - selected[column]) / deviations[column])\n",
    "            expensed = expensed.append(sub, ignore_index=True)\n",
    "\n",
    "        return expensed, deviations\n",
    "\n",
    "    for specimen in specimenPool.iloc:\n",
    "        sub = { 'Category': specimen['Category'] }\n",
    "\n",
    "        for column in commonColumns: sub[column.removeprefix('Data.Major Minerals.')] = float(specimen[column] - selected[column])\n",
    "        expensed = expensed.append(sub, ignore_index=True)\n",
    "\n",
    "    return expensed"
   ]
  },
  {
   "cell_type": "code",
   "execution_count": null,
   "metadata": {},
   "outputs": [],
   "source": [
    "Base = FoodData.head(20)"
   ]
  },
  {
   "cell_type": "code",
   "execution_count": null,
   "metadata": {},
   "outputs": [],
   "source": [
    "Expensed = ExpensedData(Base, DRI, age=0.2, subclass='Male')"
   ]
  },
  {
   "cell_type": "code",
   "execution_count": null,
   "metadata": {},
   "outputs": [],
   "source": [
    "Expensed"
   ]
  },
  {
   "cell_type": "code",
   "execution_count": null,
   "metadata": {},
   "outputs": [],
   "source": [
    "def GenerateDataframe(Reference:pd.DataFrame, FoodRatio:dict):\n",
    "    generated = pd.DataFrame([], columns=Reference.columns)\n",
    "\n",
    "    totalWeight = sum(FoodRatio.values())\n",
    "\n",
    "    mineralColumns = list(Reference.columns)[1:]\n",
    "\n",
    "    for food, grams in FoodRatio.items():\n",
    "        try:\n",
    "            mineralVector = Reference.loc[Reference.Category == food].iloc[0]\n",
    "        except:\n",
    "            continue\n",
    "\n",
    "        for column in mineralColumns:\n",
    "            mineralVector[column] *= grams / totalWeight\n",
    "\n",
    "        generated = generated.append(mineralVector, ignore_index=True)\n",
    "    \n",
    "    return generated"
   ]
  },
  {
   "cell_type": "code",
   "execution_count": null,
   "metadata": {},
   "outputs": [],
   "source": [
    "def ExpensedAnalysis(Encyclopedia:pd.DataFrame, FoodDist:dict, Ideal:pd.DataFrame, age:int, subclass:str):\n",
    "    return ExpensedData(GenerateDataframe(Encyclopedia, FoodDist), Ideal, age, subclass).sum(axis=0)"
   ]
  },
  {
   "cell_type": "code",
   "execution_count": null,
   "metadata": {},
   "outputs": [],
   "source": [
    "ExpensedAnalysis(Base, { 'ABALONE' : 2000, 'AGAVE' : 1000 }, DRI, age=21, subclass='male')"
   ]
  }
 ],
 "metadata": {
  "interpreter": {
   "hash": "420b095231a2a00faff91f824a7c4be90995b47a2b6027717f9234eb3603ef70"
  },
  "kernelspec": {
   "display_name": "Python 3.9.7 64-bit",
   "language": "python",
   "name": "python3"
  },
  "language_info": {
   "codemirror_mode": {
    "name": "ipython",
    "version": 3
   },
   "file_extension": ".py",
   "mimetype": "text/x-python",
   "name": "python",
   "nbconvert_exporter": "python",
   "pygments_lexer": "ipython3",
   "version": "3.9.7"
  },
  "orig_nbformat": 4
 },
 "nbformat": 4,
 "nbformat_minor": 2
}
